{
 "cells": [
  {
   "cell_type": "code",
   "execution_count": 1,
   "metadata": {},
   "outputs": [
    {
     "name": "stdout",
     "output_type": "stream",
     "text": [
      "Populating the interactive namespace from numpy and matplotlib\n"
     ]
    }
   ],
   "source": [
    "from SimPEG import *\n",
    "from simpegEM1D import (\n",
    "    EM1D, EM1DSurveyTD, Utils1D, get_vertical_discretization_time, \n",
    "    set_mesh_1d\n",
    ")\n",
    "import numpy as np\n",
    "import pandas as pd\n",
    "import os\n",
    "%pylab inline"
   ]
  },
  {
   "cell_type": "markdown",
   "metadata": {},
   "source": [
    "## load TEMFAST data"
   ]
  },
  {
   "cell_type": "code",
   "execution_count": 2,
   "metadata": {},
   "outputs": [],
   "source": [
    "temfast_data = pd.read_table(os.path.sep.join(['./', 'dados.txt']))  #Load data file\n",
    "fname = 'T1P1_1d'\n",
    "fnameinv = fname+'_inv'\n",
    "fnameforw = fname+'_forw'\n",
    "fnameconduc = fname+'_coduct'"
   ]
  },
  {
   "cell_type": "markdown",
   "metadata": {},
   "source": [
    "## plot data"
   ]
  },
  {
   "cell_type": "code",
   "execution_count": 3,
   "metadata": {},
   "outputs": [
    {
     "data": {
      "image/png": "[encoded data removed]",
      "text/plain": [
       "<Figure size 432x288 with 1 Axes>"
      ]
     },
     "metadata": {
      "needs_background": "light"
     },
     "output_type": "display_data"
    }
   ],
   "source": [
    "#Plot real data \n",
    "size_loop = 25 \n",
    "loop_area = size_loop**2\n",
    "neg_dobs = temfast_data[(temfast_data['E_I'] < 0 )].index\n",
    "temfast_data.drop(neg_dobs, inplace = True) #drops negative values\n",
    "time_channels = (temfast_data.Time[:].values)[2:-12]*1e-6  # deleted the last 4 values \n",
    "dobs = temfast_data.E_I[:].values[2:-12]/loop_area # [V/A]\n",
    "dobs = dobs #[V/Am^2]\n",
    "\n",
    "fig, ax = plt.subplots(1, 1)\n",
    "ax.loglog(time_channels, dobs, '*')\n",
    "ax.set_xlabel(\"time (s)\")\n",
    "ax.set_ylabel(\"db$_z$ / dt normalized [V / Am$^4$]\")\n",
    "ax.grid(\"k\", alpha=0.5)\n",
    "ax.set_rasterized(True)"
   ]
  },
  {
   "cell_type": "code",
   "execution_count": 4,
   "metadata": {},
   "outputs": [
    {
     "data": {
      "text/plain": [
       "array([9.8400e-04, 8.6080e-04, 6.8160e-04, 5.3760e-04, 4.4640e-04,\n",
       "       3.7440e-04, 3.0240e-04, 2.3360e-04, 1.8880e-04, 1.5488e-04,\n",
       "       1.2160e-04, 9.0400e-05, 7.0880e-05, 5.8240e-05, 4.4480e-05,\n",
       "       3.4880e-05, 2.8000e-05, 2.2880e-05, 1.8080e-05, 1.3472e-05,\n",
       "       9.9840e-06, 7.8560e-06, 5.5200e-06, 3.6320e-06, 2.4640e-06,\n",
       "       1.8240e-06, 1.1616e-06, 6.7360e-07, 4.5920e-07, 3.0080e-07])"
      ]
     },
     "execution_count": 4,
     "metadata": {},
     "output_type": "execute_result"
    }
   ],
   "source": [
    "dobs"
   ]
  },
  {
   "cell_type": "markdown",
   "metadata": {},
   "source": [
    "## set the current waveform"
   ]
  },
  {
   "cell_type": "code",
   "execution_count": 5,
   "metadata": {},
   "outputs": [],
   "source": [
    "input_currents = np.array([0, 1, 1, 0], dtype=float)\n",
    "time_input_currents = np.array([0, 1e-4, 2e-4, 2e-4+8e-6])\n",
    "radius = np.sqrt(loop_area/np.pi)\n",
    "srcloc = np.array([0., 0., 0.], dtype=float) # source coord\n",
    "rxloc = np.array([0., 0., 0.], dtype=float) # source coord"
   ]
  },
  {
   "cell_type": "code",
   "execution_count": 16,
   "metadata": {},
   "outputs": [
    {
     "data": {
      "text/plain": [
       "<matplotlib.legend.Legend at 0x12df4430af0>"
      ]
     },
     "execution_count": 16,
     "metadata": {},
     "output_type": "execute_result"
    },
    {
     "data": {
      "image/png": "[encoded data removed]",
      "text/plain": [
       "<Figure size 720x432 with 1 Axes>"
      ]
     },
     "metadata": {
      "needs_background": "light"
     },
     "output_type": "display_data"
    }
   ],
   "source": [
    "fig,ax = plt.subplots(1,1,figsize=(10,6))\n",
    "ax.plot(time_input_currents, input_currents,label='waveform')\n",
    "ax.plot(time_input_currents, np.zeros(len(time_input_currents)), 'r|', ms=14)\n",
    "ax.plot(time_channels,0.1*np.ones(len(time_channels)),'*',label='time channels')\n",
    "plt.rcParams.update({'font.size': 16})\n",
    "plt.legend()"
   ]
  },
  {
   "cell_type": "markdown",
   "metadata": {},
   "source": [
    "## set survey and problem"
   ]
  },
  {
   "cell_type": "code",
   "execution_count": 7,
   "metadata": {},
   "outputs": [
    {
     "name": "stdout",
     "output_type": "stream",
     "text": [
      "SimPEG.DataMisfit.l2_DataMisfit assigning default std of 5%\n",
      "SimPEG.DataMisfit.l2_DataMisfit assigning default eps of 1e-5 * ||dobs||\n"
     ]
    }
   ],
   "source": [
    "from simpegEM1D import skytem_HM_2015\n",
    "hz = 1.1**np.arange(19) \n",
    "mesh1D = set_mesh_1d(hz)\n",
    "depth = -mesh1D.gridN[:-1]\n",
    "TDsurvey = EM1DSurveyTD(\n",
    "    rx_location = rxloc,\n",
    "    src_location = srcloc,\n",
    "    topo = np.r_[0., 0., 0.],\n",
    "    depth = depth,\n",
    "    rx_type = 'dBzdt',\n",
    "    wave_type = 'general',\n",
    "    src_type = 'CircularLoop',\n",
    "    a = radius,\n",
    "    time = time_channels,\n",
    "    input_currents=input_currents,\n",
    "    time_input_currents=time_input_currents,\n",
    "    base_frequency=100,\n",
    "    n_pulse=1\n",
    ")\n",
    "expmap = Maps.ExpMap(mesh1D)\n",
    "prob = EM1D(mesh1D, sigmaMap=expmap, verbose=False)\n",
    "if prob.ispaired:\n",
    "    prob.unpair()\n",
    "if TDsurvey.ispaired:\n",
    "    TDsurvey.unpair()\n",
    "prob.pair(TDsurvey)\n",
    "std = 0.05\n",
    "floor = 0.\n",
    "TDsurvey.dobs = -dobs\n",
    "dmisfit = DataMisfit.l2_DataMisfit(TDsurvey)\n",
    "uncert = (abs(TDsurvey.dobs)*std+floor)\n",
    "dmisfit.W = 1./ uncert\n",
    "m0 = np.log(np.ones_like(hz)*1/3.)"
   ]
  },
  {
   "cell_type": "code",
   "execution_count": 8,
   "metadata": {},
   "outputs": [
    {
     "name": "stdout",
     "output_type": "stream",
     "text": [
      "[-1.09861229 -1.09861229 -1.09861229 -1.09861229 -1.09861229 -1.09861229\n",
      " -1.09861229 -1.09861229 -1.09861229 -1.09861229 -1.09861229 -1.09861229\n",
      " -1.09861229 -1.09861229 -1.09861229 -1.09861229 -1.09861229 -1.09861229\n",
      " -1.09861229]\n"
     ]
    }
   ],
   "source": [
    "print(m0)"
   ]
  },
  {
   "cell_type": "code",
   "execution_count": 9,
   "metadata": {},
   "outputs": [],
   "source": [
    "dpred = TDsurvey.dpred(m0)"
   ]
  },
  {
   "cell_type": "code",
   "execution_count": 10,
   "metadata": {},
   "outputs": [
    {
     "data": {
      "text/plain": [
       "[<matplotlib.lines.Line2D at 0x12df416c400>]"
      ]
     },
     "execution_count": 10,
     "metadata": {},
     "output_type": "execute_result"
    },
    {
     "data": {
      "image/png": "[encoded data removed]",
      "text/plain": [
       "<Figure size 432x288 with 1 Axes>"
      ]
     },
     "metadata": {
      "needs_background": "light"
     },
     "output_type": "display_data"
    }
   ],
   "source": [
    "plt.loglog(time_channels, -TDsurvey.dobs)\n",
    "plt.loglog(time_channels, -dpred)"
   ]
  },
  {
   "cell_type": "markdown",
   "metadata": {},
   "source": [
    "## run inversion"
   ]
  },
  {
   "cell_type": "code",
   "execution_count": 11,
   "metadata": {},
   "outputs": [],
   "source": [
    "reg = Regularization.Tikhonov(\n",
    "    mesh1D,\n",
    "    mapping=Maps.IdentityMap(mesh1D),\n",
    "    alpha_s=1.,\n",
    "    alpha_x=1.\n",
    ")\n",
    "opt = Optimization.ProjectedGNCG(maxIter=25, maxIterCG=20)\n",
    "invProb = InvProblem.BaseInvProblem(dmisfit, reg, opt)\n",
    "beta = Directives.BetaSchedule(coolingFactor=2., coolingRate=1)\n",
    "betaest = Directives.BetaEstimate_ByEig(beta0_ratio=1e0)\n",
    "target = Directives.TargetMisfit()\n",
    "inv = Inversion.BaseInversion(invProb, directiveList=[beta, betaest, target])\n",
    "prob.counter = opt.counter = Utils.Counter()\n",
    "opt.LSshorten = 0.5\n",
    "opt.remember('xc')"
   ]
  },
  {
   "cell_type": "code",
   "execution_count": 12,
   "metadata": {},
   "outputs": [
    {
     "name": "stdout",
     "output_type": "stream",
     "text": [
      "SimPEG.InvProblem will set Regularization.mref to m0.\n",
      "\n",
      "    SimPEG.InvProblem is setting bfgsH0 to the inverse of the eval2Deriv.\n",
      "    ***Done using same Solver and solverOpts as the problem***\n",
      "model has any nan: 0\n",
      "=============================== Projected GNCG ===============================\n",
      "  #     beta     phi_d     phi_m       f      |proj(x-g)-x|  LS    Comment   \n",
      "-----------------------------------------------------------------------------\n",
      "x0 has any nan: 0\n",
      "   0  6.68e+01  2.65e+03  0.00e+00  2.65e+03    1.05e+03      0              \n",
      "   1  3.34e+01  1.46e+03  3.64e+00  1.58e+03    4.00e+02      0              \n",
      "   2  1.67e+01  6.20e+02  1.22e+01  8.24e+02    4.11e+02      0              \n",
      "   3  8.35e+00  7.07e+01  2.28e+01  2.62e+02    1.50e+02      0              \n",
      "   4  4.18e+00  1.55e+01  2.38e+01  1.15e+02    2.67e+01      0   Skip BFGS  \n",
      "------------------------- STOP! -------------------------\n",
      "1 : |fc-fOld| = 0.0000e+00 <= tolF*(1+|f0|) = 2.6513e+02\n",
      "1 : |xc-x_last| = 3.9936e-01 <= tolX*(1+|x0|) = 5.7887e-01\n",
      "0 : |proj(x-g)-x|    = 2.6712e+01 <= tolG          = 1.0000e-01\n",
      "0 : |proj(x-g)-x|    = 2.6712e+01 <= 1e3*eps       = 1.0000e-02\n",
      "0 : maxIter   =      25    <= iter          =      5\n",
      "------------------------- DONE! -------------------------\n"
     ]
    }
   ],
   "source": [
    "mopt = inv.run(m0)"
   ]
  },
  {
   "cell_type": "code",
   "execution_count": 13,
   "metadata": {},
   "outputs": [
    {
     "data": {
      "text/plain": [
       "Text(0.5, 0, 'Resistivity (ohm-m)')"
      ]
     },
     "execution_count": 13,
     "metadata": {},
     "output_type": "execute_result"
    },
    {
     "data": {
      "image/png": "[encoded data removed]",
      "text/plain": [
       "<Figure size 360x576 with 1 Axes>"
      ]
     },
     "metadata": {
      "needs_background": "light"
     },
     "output_type": "display_data"
    }
   ],
   "source": [
    "fig, ax = subplots(1,1, figsize=(5, 8))\n",
    "Utils1D.plotLayer(1./(expmap*mopt), mesh1D, showlayers=True, **{'color':'r'})\n",
    "plt.xlabel(\"Resistivity (ohm-m)\")\n",
    "# Utils1D.plotLayer(expmap*invProb.l2model, mesh1D, showlayers=False, **{'color':'b', 'lw':1.})"
   ]
  },
  {
   "cell_type": "code",
   "execution_count": 14,
   "metadata": {},
   "outputs": [
    {
     "data": {
      "text/plain": [
       "<matplotlib.legend.Legend at 0x12df3f390a0>"
      ]
     },
     "execution_count": 14,
     "metadata": {},
     "output_type": "execute_result"
    },
    {
     "data": {
      "image/png": "[encoded data removed]",
      "text/plain": [
       "<Figure size 432x288 with 1 Axes>"
      ]
     },
     "metadata": {
      "needs_background": "light"
     },
     "output_type": "display_data"
    }
   ],
   "source": [
    "plt.loglog(time_channels, -TDsurvey.dobs, '.')\n",
    "plt.loglog(time_channels, -invProb.dpred)\n",
    "plt.legend((\"obs\", \"pred\"))"
   ]
  },
  {
   "cell_type": "code",
   "execution_count": null,
   "metadata": {},
   "outputs": [],
   "source": []
  }
 ],
 "metadata": {
  "kernelspec": {
   "display_name": "Python 3",
   "language": "python",
   "name": "python3"
  },
  "language_info": {
   "codemirror_mode": {
    "name": "ipython",
    "version": 3
   },
   "file_extension": ".py",
   "mimetype": "text/x-python",
   "name": "python",
   "nbconvert_exporter": "python",
   "pygments_lexer": "ipython3",
   "version": "3.8.5"
  }
 },
 "nbformat": 4,
 "nbformat_minor": 2
}
