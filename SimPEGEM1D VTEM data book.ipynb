{
 "cells": [
  {
   "cell_type": "markdown",
   "metadata": {},
   "source": [
    "# SimpegEM1D VTEM Waveform"
   ]
  },
  {
   "cell_type": "code",
   "execution_count": 1,
   "metadata": {},
   "outputs": [],
   "source": [
    "from simpegEM1D import *"
   ]
  },
  {
   "cell_type": "code",
   "execution_count": 2,
   "metadata": {},
   "outputs": [],
   "source": [
    "from SimPEG import *\n",
    "import numpy as np"
   ]
  },
  {
   "cell_type": "code",
   "execution_count": 3,
   "metadata": {},
   "outputs": [],
   "source": [
    "import pandas as pd\n",
    "import matplotlib as mpl\n",
    "import matplotlib.pyplot as plt"
   ]
  },
  {
   "cell_type": "code",
   "execution_count": 4,
   "metadata": {},
   "outputs": [],
   "source": [
    "\n",
    "dobs = np.load('dobs_3d.npy')"
   ]
  },
  {
   "cell_type": "code",
   "execution_count": 5,
   "metadata": {},
   "outputs": [],
   "source": [
    "time_channels = np.vstack([\n",
    "    [7, 8, 9, 10, 11, 12, 13, 14, 15, 16, 17, 18, 19, 20, 21, 22, 23, 24, 25, 26, 27, 28, 29, 30],\n",
    "    [470e-7, 598e-7, 726e-7, 886e-7, 1118e-7, 1454e-7, 1852e-7, 2344e-7, 2952e-7, 3706e-7, 4644e-7, 5814e-7, 7278e-7, 9112e-7, 11170e-7, 14292e-7, 17912e-7, 22460e-7, 28174e-7, 35356e-7, 44388e-7, 55750e-7, 7.00e-03, 8.80e-03]\n",
    "]).T"
   ]
  },
  {
   "cell_type": "code",
   "execution_count": 6,
   "metadata": {},
   "outputs": [],
   "source": [
    "waveform = np.vstack([\n",
    "    np.r_[-10, -9.29, -8.41, -7.26, -5.28, -3.62, -2.33, -0.62, 0.00, 0.0266, 0.0276, 0.0286, 10.000]*1e-3,\n",
    "    np.r_[0, 20, 40, 60, 80, 90, 95, 99, 100, 1.53, 0.566, 0.000, 0.000]/100.\n",
    "]).T"
   ]
  },
  {
   "cell_type": "code",
   "execution_count": 7,
   "metadata": {},
   "outputs": [],
   "source": [
    "time_input_currents = waveform[:-1, 0]\n",
    "input_currents = waveform[:-1, 1]\n",
    "times = time_channels[:-3, 1]"
   ]
  },
  {
   "cell_type": "code",
   "execution_count": 8,
   "metadata": {},
   "outputs": [
    {
     "name": "stdout",
     "output_type": "stream",
     "text": [
      "[-1.00e-02 -9.29e-03 -8.41e-03 -7.26e-03 -5.28e-03 -3.62e-03 -2.33e-03\n",
      " -6.20e-04  0.00e+00  2.66e-05  2.76e-05  2.86e-05]\n"
     ]
    }
   ],
   "source": [
    "print(time_input_currents)"
   ]
  },
  {
   "cell_type": "code",
   "execution_count": 9,
   "metadata": {},
   "outputs": [
    {
     "name": "stdout",
     "output_type": "stream",
     "text": [
      "[0.      0.2     0.4     0.6     0.8     0.9     0.95    0.99    1.\n",
      " 0.0153  0.00566 0.     ]\n"
     ]
    }
   ],
   "source": [
    "print(input_currents)"
   ]
  },
  {
   "cell_type": "code",
   "execution_count": 10,
   "metadata": {
    "scrolled": true
   },
   "outputs": [
    {
     "data": {
      "text/plain": [
       "[<matplotlib.lines.Line2D at 0x253a560ce50>]"
      ]
     },
     "execution_count": 10,
     "metadata": {},
     "output_type": "execute_result"
    },
    {
     "data": {
      "image/png": "[encoded data removed]",
      "text/plain": [
       "<Figure size 576x360 with 1 Axes>"
      ]
     },
     "metadata": {
      "needs_background": "light"
     },
     "output_type": "display_data"
    }
   ],
   "source": [
    "fig, ax = plt.subplots(1,1, figsize=(8, 5))\n",
    "ax.plot(time_input_currents, input_currents)\n",
    "ax.plot(times,0.1*np.ones(len(times)),'*')\n",
    "#plt.rcParams.update({'font.size': 16})"
   ]
  },
  {
   "cell_type": "code",
   "execution_count": 11,
   "metadata": {},
   "outputs": [],
   "source": [
    "area = 313.98\n",
    "radius = np.sqrt(area/np.pi)\n",
    "system_height = 39.8\n",
    "rxloc = np.array([0, 0., 100+system_height], dtype=float)\n",
    "srcloc = np.array([0., 0., 100+system_height], dtype=float)\n"
   ]
  },
  {
   "cell_type": "code",
   "execution_count": 12,
   "metadata": {},
   "outputs": [
    {
     "name": "stdout",
     "output_type": "stream",
     "text": [
      "9.997146496075098\n"
     ]
    }
   ],
   "source": [
    "print(radius)"
   ]
  },
  {
   "cell_type": "code",
   "execution_count": 13,
   "metadata": {},
   "outputs": [
    {
     "data": {
      "text/plain": [
       "numpy.ndarray"
      ]
     },
     "execution_count": 13,
     "metadata": {},
     "output_type": "execute_result"
    }
   ],
   "source": [
    "type(rxloc)"
   ]
  },
  {
   "cell_type": "code",
   "execution_count": 14,
   "metadata": {},
   "outputs": [],
   "source": [
    "# cs,csz, ncx, ncz, npad = 5.0,1.0, 25, 31,17\n",
    "# hz = [ (csz, ncz), (cs, npad, 1.3)]\n",
    "# hz = get_vertical_discretization_time(times, facter_tmax=0.5, factor_tmin=10.)\n",
    "hz = get_vertical_discretization_time(times, sigma_background=0.01, facter_tmax=1, n_layer=40)\n",
    "mesh1D = set_mesh_1d(hz)\n",
    "depth = -mesh1D.gridN[:-1]\n",
    "LocSigz = -mesh1D.gridCC\n"
   ]
  },
  {
   "cell_type": "code",
   "execution_count": 15,
   "metadata": {},
   "outputs": [],
   "source": [
    "#np.save('vectorCCx',mesh1D.vectorCCx)"
   ]
  },
  {
   "cell_type": "code",
   "execution_count": 16,
   "metadata": {},
   "outputs": [],
   "source": [
    "TDsurvey = EM1DSurveyTD(\n",
    "    rx_location = rxloc,\n",
    "    src_location = srcloc,\n",
    "    topo = np.r_[0.,0.,100.],\n",
    "    depth = depth,\n",
    "    rx_type = 'dBzdt',\n",
    "    wave_type = 'general',\n",
    "    src_type = 'CircularLoop',\n",
    "    a = radius,\n",
    "    time = times,\n",
    "    input_currents = input_currents,\n",
    "    time_input_currents = time_input_currents,\n",
    "    base_frequency=50,\n",
    "    n_pulse=1\n",
    "    )"
   ]
  },
  {
   "cell_type": "code",
   "execution_count": 17,
   "metadata": {},
   "outputs": [],
   "source": [
    "sig_half = 1e-1\n",
    "chi_half =0.\n",
    "expmap = Maps.ExpMap(mesh1D)"
   ]
  },
  {
   "cell_type": "code",
   "execution_count": 18,
   "metadata": {},
   "outputs": [
    {
     "name": "stdout",
     "output_type": "stream",
     "text": [
      "[-2.30258509 -2.30258509 -2.30258509 -2.30258509 -2.30258509 -2.30258509\n",
      " -2.30258509 -2.30258509 -2.30258509 -2.30258509 -2.30258509 -2.30258509\n",
      " -2.30258509 -2.30258509 -2.30258509 -2.30258509 -2.30258509 -2.30258509\n",
      " -2.30258509 -2.30258509 -2.30258509 -2.30258509 -2.30258509 -2.30258509\n",
      " -2.30258509 -2.30258509 -2.30258509 -2.30258509 -2.30258509 -2.30258509\n",
      " -2.30258509 -2.30258509 -2.30258509 -2.30258509 -2.30258509 -2.30258509\n",
      " -2.30258509 -2.30258509 -2.30258509 -2.30258509]\n"
     ]
    }
   ],
   "source": [
    "sig = np.ones(TDsurvey.n_layer)*sig_half\n",
    "m0 = np.log(sig)\n",
    "print(m0)"
   ]
  },
  {
   "cell_type": "code",
   "execution_count": 19,
   "metadata": {},
   "outputs": [
    {
     "data": {
      "image/png": "[encoded data removed]",
      "text/plain": [
       "<Figure size 360x576 with 1 Axes>"
      ]
     },
     "metadata": {
      "needs_background": "light"
     },
     "output_type": "display_data"
    }
   ],
   "source": [
    "fig, ax = plt.subplots(1,1, figsize=(5, 8))\n",
    "ax.plot(sig,depth)\n",
    "ax.grid(which = 'major', linestyle='-', linewidth=0.2)"
   ]
  },
  {
   "cell_type": "code",
   "execution_count": 20,
   "metadata": {},
   "outputs": [
    {
     "data": {
      "text/plain": [
       "[<matplotlib.lines.Line2D at 0x253a57e0760>]"
      ]
     },
     "execution_count": 20,
     "metadata": {},
     "output_type": "execute_result"
    },
    {
     "data": {
      "image/png": "[encoded data removed]",
      "text/plain": [
       "<Figure size 360x576 with 1 Axes>"
      ]
     },
     "metadata": {
      "needs_background": "light"
     },
     "output_type": "display_data"
    }
   ],
   "source": [
    "fig, ax = plt.subplots(1,1, figsize=(5, 8))\n",
    "Utils1D.plotLayer(sig, mesh1D, showlayers=True)\n",
    "#ax.set_ylim(-100,0)\n"
   ]
  },
  {
   "cell_type": "code",
   "execution_count": 21,
   "metadata": {},
   "outputs": [
    {
     "name": "stdout",
     "output_type": "stream",
     "text": [
      "Wall time: 150 ms\n"
     ]
    }
   ],
   "source": [
    "%%time\n",
    "prob = EM1D(mesh1D, sigmaMap=expmap, verbose=False)\n",
    "if prob.ispaired:\n",
    "    prob.unpair()\n",
    "if TDsurvey.ispaired:\n",
    "    TDsurvey.unpair()\n",
    "prob.pair(TDsurvey)\n",
    "prob.chi = np.zeros(TDsurvey.n_layer)\n",
    "d_0 = TDsurvey.dpred(m0)/area"
   ]
  },
  {
   "cell_type": "code",
   "execution_count": 22,
   "metadata": {},
   "outputs": [],
   "source": [
    "std = 0.05\n",
    "floor = 1e-12\n",
    "uncert = abs(dobs) * std + floor"
   ]
  },
  {
   "cell_type": "code",
   "execution_count": null,
   "metadata": {},
   "outputs": [],
   "source": []
  },
  {
   "cell_type": "code",
   "execution_count": 23,
   "metadata": {},
   "outputs": [
    {
     "data": {
      "text/plain": [
       "<matplotlib.legend.Legend at 0x253a58d6df0>"
      ]
     },
     "execution_count": 23,
     "metadata": {},
     "output_type": "execute_result"
    },
    {
     "data": {
      "image/png": "[encoded data removed]",
      "text/plain": [
       "<Figure size 576x432 with 1 Axes>"
      ]
     },
     "metadata": {
      "needs_background": "light"
     },
     "output_type": "display_data"
    }
   ],
   "source": [
    "fig, ax = plt.subplots(1, 1,figsize=(8,6))\n",
    "\n",
    "ax.loglog(time_channels[:-3, 1], dobs, \"C0s\", label=\"dobs\")\n",
    "plt.errorbar(time_channels[:-3, 1], dobs, yerr=uncert, color=\"C0\")\n",
    "ax.loglog(time_channels[:-3, 1], -d_0, \"C1\", label=\"dpred_1D\")\n",
    "ax.grid('k', alpha=0.5)\n",
    "ax.legend()"
   ]
  },
  {
   "cell_type": "code",
   "execution_count": 24,
   "metadata": {},
   "outputs": [
    {
     "name": "stdout",
     "output_type": "stream",
     "text": [
      "SimPEG.DataMisfit.l2_DataMisfit assigning default std of 5%\n",
      "SimPEG.DataMisfit.l2_DataMisfit assigning default eps of 1e-5 * ||dobs||\n"
     ]
    }
   ],
   "source": [
    "TDsurvey.dobs = -dobs\n",
    "dmisfit = DataMisfit.l2_DataMisfit(TDsurvey)\n",
    "dmisfit.W = 1./ uncert\n"
   ]
  },
  {
   "cell_type": "code",
   "execution_count": 50,
   "metadata": {},
   "outputs": [],
   "source": [
    "reg = Regularization.Tikhonov(\n",
    "    mesh1D,\n",
    "    mapping=Maps.IdentityMap(mesh1D),\n",
    "    alpha_s=1e-3,\n",
    "    alpha_x=1.\n",
    ")\n",
    "opt = Optimization.InexactGaussNewton(maxIter=50)\n",
    "opt.LSshorten = 0.5\n",
    "opt.remember('xc')\n",
    "\n",
    "invProb = InvProblem.BaseInvProblem(dmisfit, reg, opt)\n",
    "target = Directives.TargetMisfit()  # stop when we hit target misfit\n",
    "invProb.beta = 5.\n",
    "# betaest = Directives.BetaEstimate_ByEig(beta0_ratio=1e0)\n",
    "inv = Inversion.BaseInversion(invProb, directiveList=[target])\n",
    "# run the inversion\n",
    "\n"
   ]
  },
  {
   "cell_type": "code",
   "execution_count": 51,
   "metadata": {},
   "outputs": [
    {
     "name": "stdout",
     "output_type": "stream",
     "text": [
      "SimPEG.InvProblem will set Regularization.mref to m0.\n",
      "\n",
      "    SimPEG.InvProblem is setting bfgsH0 to the inverse of the eval2Deriv.\n",
      "    ***Done using same Solver and solverOpts as the problem***\n",
      "model has any nan: 0\n",
      "============================ Inexact Gauss Newton ============================\n",
      "  #     beta     phi_d     phi_m       f      |proj(x-g)-x|  LS    Comment   \n",
      "-----------------------------------------------------------------------------\n",
      "x0 has any nan: 0\n",
      "   0  5.00e+00  9.77e+07  0.00e+00  9.77e+07    1.17e+08      0              \n",
      "   1  5.00e+00  1.40e+07  6.14e-02  1.40e+07    1.33e+07      0              \n",
      "   2  5.00e+00  2.75e+06  2.54e-01  2.75e+06    2.01e+06      0   Skip BFGS  \n",
      "   3  5.00e+00  5.99e+05  6.66e-01  5.99e+05    3.58e+05      0   Skip BFGS  \n",
      "   4  5.00e+00  1.42e+05  1.36e+00  1.42e+05    6.82e+04      0   Skip BFGS  \n",
      "   5  5.00e+00  3.45e+04  2.41e+00  3.45e+04    1.30e+04      0   Skip BFGS  \n",
      "   6  5.00e+00  5.48e+03  5.09e+00  5.50e+03    4.92e+03      0   Skip BFGS  \n",
      "   7  5.00e+00  9.43e+02  5.74e+00  9.71e+02    9.65e+02      0   Skip BFGS  \n",
      "   8  5.00e+00  4.88e+02  8.13e+00  5.29e+02    4.34e+02      0   Skip BFGS  \n",
      "   9  5.00e+00  4.05e+02  8.34e+00  4.47e+02    1.12e+02      0   Skip BFGS  \n",
      "  10  5.00e+00  3.99e+02  8.34e+00  4.41e+02    1.07e+02      0   Skip BFGS  \n",
      "  11  5.00e+00  3.79e+02  9.14e+00  4.24e+02    1.90e+02      1              \n",
      "  12  5.00e+00  3.58e+02  8.99e+00  4.03e+02    1.87e+02      0              \n",
      "  13  5.00e+00  3.59e+02  7.12e+00  3.94e+02    2.00e+02      2              \n",
      "  14  5.00e+00  3.38e+02  1.01e+01  3.89e+02    2.07e+02      1              \n",
      "  15  5.00e+00  3.40e+02  7.00e+00  3.75e+02    2.23e+02      2              \n",
      "  16  5.00e+00  3.12e+02  9.39e+00  3.58e+02    2.60e+02      0              \n",
      "  17  5.00e+00  3.00e+02  8.17e+00  3.41e+02    3.11e+02      2              \n",
      "  18  5.00e+00  2.81e+02  8.14e+00  3.22e+02    3.11e+02      2              \n",
      "  19  5.00e+00  2.67e+02  8.53e+00  3.10e+02    3.34e+02      1              \n",
      "  20  5.00e+00  2.48e+02  9.12e+00  2.94e+02    3.09e+02      1              \n",
      "  21  5.00e+00  2.31e+02  9.17e+00  2.77e+02    3.28e+02      3              \n",
      "  22  5.00e+00  2.14e+02  8.46e+00  2.56e+02    2.47e+02      1              \n",
      "  23  5.00e+00  1.91e+02  8.51e+00  2.34e+02    9.89e+01      0   Skip BFGS  \n",
      "  24  5.00e+00  1.87e+02  8.64e+00  2.30e+02    4.19e+01      0   Skip BFGS  \n",
      "  25  5.00e+00  1.88e+02  7.77e+00  2.27e+02    6.87e+01      1   Skip BFGS  \n",
      "  26  5.00e+00  1.86e+02  7.93e+00  2.26e+02    4.19e+01      0              \n",
      "  27  5.00e+00  1.91e+02  6.58e+00  2.23e+02    8.25e+01      1              \n",
      "  28  5.00e+00  1.87e+02  6.88e+00  2.22e+02    7.72e+01      1              \n",
      "  29  5.00e+00  1.89e+02  6.15e+00  2.20e+02    7.35e+01      2              \n",
      "  30  5.00e+00  1.91e+02  5.60e+00  2.19e+02    4.90e+01      0   Skip BFGS  \n",
      "  31  5.00e+00  1.88e+02  6.05e+00  2.18e+02    4.86e+01      2              \n",
      "  32  5.00e+00  1.88e+02  5.89e+00  2.17e+02    3.65e+01      1              \n",
      "  33  5.00e+00  1.88e+02  5.87e+00  2.17e+02    2.51e+01      1              \n",
      "  34  5.00e+00  1.87e+02  6.02e+00  2.17e+02    1.91e+01      1              \n",
      "  35  5.00e+00  1.88e+02  5.80e+00  2.17e+02    1.94e+01      2              \n",
      "  36  5.00e+00  1.87e+02  5.80e+00  2.16e+02    9.99e+00      0              \n",
      "  37  5.00e+00  1.87e+02  5.93e+00  2.16e+02    1.00e+01      2              \n",
      "  38  5.00e+00  1.87e+02  5.83e+00  2.16e+02    9.60e+00      2              \n",
      "  39  5.00e+00  1.87e+02  5.84e+00  2.16e+02    6.27e+00      0              \n",
      "  40  5.00e+00  1.87e+02  5.83e+00  2.16e+02    3.76e+00      0              \n",
      "  41  5.00e+00  1.87e+02  5.84e+00  2.16e+02    3.41e+00      0              \n",
      "  42  5.00e+00  1.87e+02  5.76e+00  2.16e+02    2.81e+00      0              \n",
      "  43  5.00e+00  1.88e+02  5.69e+00  2.16e+02    3.56e+00      1              \n",
      "  44  5.00e+00  1.87e+02  5.81e+00  2.16e+02    2.18e+00      1              \n",
      "  45  5.00e+00  1.87e+02  5.71e+00  2.16e+02    2.66e+00      1              \n",
      "  46  5.00e+00  1.87e+02  5.77e+00  2.16e+02    1.75e+00      1              \n",
      "  47  5.00e+00  1.87e+02  5.74e+00  2.16e+02    2.17e+00      1              \n",
      "  48  5.00e+00  1.87e+02  5.77e+00  2.16e+02    1.20e+00      1              \n",
      "  49  5.00e+00  1.87e+02  5.70e+00  2.16e+02    2.09e+00      1              \n",
      "  50  5.00e+00  1.87e+02  5.70e+00  2.16e+02    1.70e+00      2              \n",
      "------------------------- STOP! -------------------------\n",
      "1 : |fc-fOld| = 6.1645e-03 <= tolF*(1+|f0|) = 9.7747e+06\n",
      "1 : |xc-x_last| = 1.5547e-01 <= tolX*(1+|x0|) = 1.5563e+00\n",
      "0 : |proj(x-g)-x|    = 1.6959e+00 <= tolG          = 1.0000e-01\n",
      "0 : |proj(x-g)-x|    = 1.6959e+00 <= 1e3*eps       = 1.0000e-02\n",
      "1 : maxIter   =      50    <= iter          =     50\n",
      "------------------------- DONE! -------------------------\n"
     ]
    }
   ],
   "source": [
    "mopt = inv.run(m0)"
   ]
  },
  {
   "cell_type": "code",
   "execution_count": 52,
   "metadata": {},
   "outputs": [
    {
     "data": {
      "text/plain": [
       "Text(0.5, 0, 'Resistivity (ohm-m)')"
      ]
     },
     "execution_count": 52,
     "metadata": {},
     "output_type": "execute_result"
    },
    {
     "data": {
      "image/png": "[encoded data removed]",
      "text/plain": [
       "<Figure size 360x576 with 1 Axes>"
      ]
     },
     "metadata": {
      "needs_background": "light"
     },
     "output_type": "display_data"
    }
   ],
   "source": [
    "fig, ax = plt.subplots(1,1, figsize=(5, 8))\n",
    "Utils1D.plotLayer(1./(expmap*mopt), mesh1D, showlayers=True, **{'color':'r'})\n",
    "plt.xlabel(\"Resistivity (ohm-m)\")\n",
    "# Utils1D.plotLayer(expmap*invProb.l2model, mesh1D, showlayers=False, **{'color':'b', 'lw':1.})"
   ]
  },
  {
   "cell_type": "code",
   "execution_count": 53,
   "metadata": {},
   "outputs": [
    {
     "data": {
      "text/plain": [
       "(21,)"
      ]
     },
     "execution_count": 53,
     "metadata": {},
     "output_type": "execute_result"
    }
   ],
   "source": [
    "dpred = invProb.dpred\n",
    "dpred.shape"
   ]
  },
  {
   "cell_type": "code",
   "execution_count": 54,
   "metadata": {},
   "outputs": [
    {
     "data": {
      "text/plain": [
       "<matplotlib.legend.Legend at 0x253a78a7b20>"
      ]
     },
     "execution_count": 54,
     "metadata": {},
     "output_type": "execute_result"
    },
    {
     "data": {
      "image/png": "[encoded data removed]",
      "text/plain": [
       "<Figure size 432x288 with 1 Axes>"
      ]
     },
     "metadata": {
      "needs_background": "light"
     },
     "output_type": "display_data"
    }
   ],
   "source": [
    "plt.loglog(times, -TDsurvey.dobs, '.')\n",
    "plt.loglog(times, -invProb.dpred)\n",
    "plt.legend((\"obs\", \"pred\"))\n"
   ]
  },
  {
   "cell_type": "code",
   "execution_count": null,
   "metadata": {},
   "outputs": [],
   "source": []
  }
 ],
 "metadata": {
  "kernelspec": {
   "display_name": "Python 3",
   "language": "python",
   "name": "python3"
  },
  "language_info": {
   "codemirror_mode": {
    "name": "ipython",
    "version": 3
   },
   "file_extension": ".py",
   "mimetype": "text/x-python",
   "name": "python",
   "nbconvert_exporter": "python",
   "pygments_lexer": "ipython3",
   "version": "3.8.5"
  }
 },
 "nbformat": 4,
 "nbformat_minor": 4
}
