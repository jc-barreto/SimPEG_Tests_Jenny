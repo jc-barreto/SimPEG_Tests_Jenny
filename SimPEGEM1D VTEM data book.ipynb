{
 "cells": [
  {
   "cell_type": "markdown",
   "metadata": {},
   "source": [
    "# SimpegEM1D VTEM Waveform"
   ]
  },
  {
   "cell_type": "code",
   "execution_count": 1,
   "metadata": {},
   "outputs": [],
   "source": [
    "from simpegEM1D import *"
   ]
  },
  {
   "cell_type": "code",
   "execution_count": 2,
   "metadata": {},
   "outputs": [],
   "source": [
    "from SimPEG import *\n",
    "import numpy as np"
   ]
  },
  {
   "cell_type": "code",
   "execution_count": 3,
   "metadata": {},
   "outputs": [],
   "source": [
    "import pandas as pd\n",
    "import matplotlib as mpl\n",
    "import matplotlib.pyplot as plt"
   ]
  },
  {
   "cell_type": "code",
   "execution_count": 4,
   "metadata": {},
   "outputs": [],
   "source": [
    "dobs = np.load('dobs_3d.npy')\n"
   ]
  },
  {
   "cell_type": "code",
   "execution_count": 5,
   "metadata": {},
   "outputs": [],
   "source": [
    "time_channels = np.vstack([\n",
    "    [7, 8, 9, 10, 11, 12, 13, 14, 15, 16, 17, 18, 19, 20, 21, 22, 23, 24, 25, 26, 27, 28, 29, 30],\n",
    "    [470e-7, 598e-7, 726e-7, 886e-7, 1118e-7, 1454e-7, 1852e-7, 2344e-7, 2952e-7, 3706e-7, 4644e-7, 5814e-7, 7278e-7, 9112e-7, 11170e-7, 14292e-7, 17912e-7, 22460e-7, 28174e-7, 35356e-7, 44388e-7, 55750e-7, 7.00e-03, 8.80e-03]\n",
    "]).T"
   ]
  },
  {
   "cell_type": "code",
   "execution_count": 6,
   "metadata": {},
   "outputs": [],
   "source": [
    "waveform = np.vstack([\n",
    "    np.r_[-10, -9.29, -8.41, -7.26, -5.28, -3.62, -2.33, -0.62, 0.00, 0.0266, 0.0276, 0.0286, 10.000]*1e-3,\n",
    "    np.r_[0, 20, 40, 60, 80, 90, 95, 99, 100, 1.53, 0.566, 0.000, 0.000]/100.\n",
    "]).T"
   ]
  },
  {
   "cell_type": "code",
   "execution_count": 7,
   "metadata": {},
   "outputs": [],
   "source": [
    "time_input_currents = waveform[:-1, 0]\n",
    "input_currents = waveform[:-1, 1]\n",
    "times = time_channels[:-3, 1]"
   ]
  },
  {
   "cell_type": "code",
   "execution_count": 8,
   "metadata": {},
   "outputs": [
    {
     "name": "stdout",
     "output_type": "stream",
     "text": [
      "[-1.00e-02 -9.29e-03 -8.41e-03 -7.26e-03 -5.28e-03 -3.62e-03 -2.33e-03\n",
      " -6.20e-04  0.00e+00  2.66e-05  2.76e-05  2.86e-05]\n"
     ]
    }
   ],
   "source": [
    "print(time_input_currents)"
   ]
  },
  {
   "cell_type": "code",
   "execution_count": 9,
   "metadata": {},
   "outputs": [
    {
     "name": "stdout",
     "output_type": "stream",
     "text": [
      "[0.      0.2     0.4     0.6     0.8     0.9     0.95    0.99    1.\n",
      " 0.0153  0.00566 0.     ]\n"
     ]
    }
   ],
   "source": [
    "print(input_currents)"
   ]
  },
  {
   "cell_type": "code",
   "execution_count": 10,
   "metadata": {
    "scrolled": true
   },
   "outputs": [
    {
     "data": {
      "text/plain": [
       "<matplotlib.legend.Legend at 0x1c0ece3ca30>"
      ]
     },
     "execution_count": 10,
     "metadata": {},
     "output_type": "execute_result"
    },
    {
     "data": {
      "image/png": "[encoded data removed]",
      "text/plain": [
       "<Figure size 432x288 with 1 Axes>"
      ]
     },
     "metadata": {
      "needs_background": "light"
     },
     "output_type": "display_data"
    }
   ],
   "source": [
    "fig, ax = plt.subplots(1, 1)\n",
    "ax.plot(time_input_currents,input_currents,label='VTEMfun')\n",
    "ax.set_xlabel(\"time (s)\")\n",
    "ax.set_ylabel(\"Normalized current\")\n",
    "ax.grid(\"k\", alpha=0.5)\n",
    "plt.legend()"
   ]
  },
  {
   "cell_type": "code",
   "execution_count": 11,
   "metadata": {},
   "outputs": [],
   "source": [
    "area = 313.98\n",
    "radius = np.sqrt(area/np.pi)\n",
    "system_height = 39.8\n",
    "rxloc = np.array([0, 0., 100+system_height], dtype=float)\n",
    "srcloc = np.array([0., 0., 100+system_height], dtype=float)\n"
   ]
  },
  {
   "cell_type": "code",
   "execution_count": 12,
   "metadata": {},
   "outputs": [
    {
     "name": "stdout",
     "output_type": "stream",
     "text": [
      "9.997146496075098\n"
     ]
    }
   ],
   "source": [
    "print(radius)"
   ]
  },
  {
   "cell_type": "code",
   "execution_count": 13,
   "metadata": {},
   "outputs": [
    {
     "data": {
      "text/plain": [
       "numpy.ndarray"
      ]
     },
     "execution_count": 13,
     "metadata": {},
     "output_type": "execute_result"
    }
   ],
   "source": [
    "type(rxloc)"
   ]
  },
  {
   "cell_type": "code",
   "execution_count": 14,
   "metadata": {},
   "outputs": [],
   "source": [
    "# cs,csz, ncx, ncz, npad = 5.0,1.0, 25, 31,17\n",
    "# hz = [ (csz, ncz), (cs, npad, 1.3)]\n",
    "hz = get_vertical_discretization_time(times, facter_tmax=0.5, factor_tmin=10.)\n",
    "mesh1D = set_mesh_1d(hz)\n",
    "depth = -mesh1D.gridN[:-1]\n",
    "LocSigz = -mesh1D.gridCC\n"
   ]
  },
  {
   "cell_type": "code",
   "execution_count": 15,
   "metadata": {},
   "outputs": [],
   "source": [
    "#np.save('vectorCCx',mesh1D.vectorCCx)"
   ]
  },
  {
   "cell_type": "code",
   "execution_count": 16,
   "metadata": {},
   "outputs": [],
   "source": [
    "TDsurvey = EM1DSurveyTD(\n",
    "    rx_location = rxloc,\n",
    "    src_location = srcloc,\n",
    "    topo = np.r_[0.,0.,100.],\n",
    "    depth = depth,\n",
    "    rx_type = 'dBzdt',\n",
    "    wave_type = 'general',\n",
    "    src_type = 'CircularLoop',\n",
    "    a = radius,\n",
    "    time = times,\n",
    "    input_currents = input_currents,\n",
    "    time_input_currents = time_input_currents,\n",
    "    base_frequency=25,\n",
    "    n_pulse=1\n",
    "    )"
   ]
  },
  {
   "cell_type": "code",
   "execution_count": 17,
   "metadata": {},
   "outputs": [],
   "source": [
    "sig_half = 1e-1\n",
    "chi_half =0.\n",
    "expmap = Maps.ExpMap(mesh1D)"
   ]
  },
  {
   "cell_type": "code",
   "execution_count": 18,
   "metadata": {},
   "outputs": [
    {
     "name": "stdout",
     "output_type": "stream",
     "text": [
      "[-2.30258509 -2.30258509 -2.30258509 -2.30258509 -2.30258509 -2.30258509\n",
      " -2.30258509 -2.30258509 -2.30258509 -2.30258509 -2.30258509 -2.30258509\n",
      " -2.30258509 -2.30258509 -2.30258509 -2.30258509 -2.30258509 -2.30258509\n",
      " -2.30258509]\n"
     ]
    }
   ],
   "source": [
    "sig = np.ones(TDsurvey.n_layer)*sig_half\n",
    "mtrue = np.log(sig)\n",
    "print(mtrue)"
   ]
  },
  {
   "cell_type": "code",
   "execution_count": 19,
   "metadata": {},
   "outputs": [
    {
     "data": {
      "image/png": "[encoded data removed]",
      "text/plain": [
       "<Figure size 360x576 with 1 Axes>"
      ]
     },
     "metadata": {
      "needs_background": "light"
     },
     "output_type": "display_data"
    }
   ],
   "source": [
    "fig, ax = plt.subplots(1,1, figsize=(5, 8))\n",
    "ax.plot(sig,depth)\n",
    "ax.grid(which = 'major', linestyle='-', linewidth=0.2)"
   ]
  },
  {
   "cell_type": "code",
   "execution_count": 20,
   "metadata": {},
   "outputs": [
    {
     "data": {
      "text/plain": [
       "[<matplotlib.lines.Line2D at 0x1c0ecfe6850>]"
      ]
     },
     "execution_count": 20,
     "metadata": {},
     "output_type": "execute_result"
    },
    {
     "data": {
      "image/png": "[encoded data removed]",
      "text/plain": [
       "<Figure size 360x576 with 1 Axes>"
      ]
     },
     "metadata": {
      "needs_background": "light"
     },
     "output_type": "display_data"
    }
   ],
   "source": [
    "fig, ax = plt.subplots(1,1, figsize=(5, 8))\n",
    "Utils1D.plotLayer(sig, mesh1D, showlayers=True)\n",
    "#ax.set_ylim(-100,0)\n"
   ]
  },
  {
   "cell_type": "code",
   "execution_count": 21,
   "metadata": {},
   "outputs": [
    {
     "name": "stdout",
     "output_type": "stream",
     "text": [
      "Wall time: 71.2 ms\n"
     ]
    }
   ],
   "source": [
    "%%time\n",
    "prob = EM1D(mesh1D, sigmaMap=expmap, verbose=False)\n",
    "if prob.ispaired:\n",
    "    prob.unpair()\n",
    "if TDsurvey.ispaired:\n",
    "    TDsurvey.unpair()\n",
    "prob.pair(TDsurvey)\n",
    "prob.chi = np.zeros(TDsurvey.n_layer)\n",
    "d_true = TDsurvey.dpred(mtrue)"
   ]
  },
  {
   "cell_type": "code",
   "execution_count": 22,
   "metadata": {},
   "outputs": [],
   "source": [
    "std = 0.05\n",
    "floor = 1e-12\n",
    "uncert = abs(dobs) * std + floor"
   ]
  },
  {
   "cell_type": "code",
   "execution_count": 23,
   "metadata": {},
   "outputs": [],
   "source": [
    "dpred_3d= np.load('dpred_3d.npy')"
   ]
  },
  {
   "cell_type": "code",
   "execution_count": 24,
   "metadata": {},
   "outputs": [
    {
     "data": {
      "text/plain": [
       "<matplotlib.legend.Legend at 0x1c0ed135c40>"
      ]
     },
     "execution_count": 24,
     "metadata": {},
     "output_type": "execute_result"
    },
    {
     "data": {
      "image/png": "[encoded data removed]",
      "text/plain": [
       "<Figure size 576x432 with 1 Axes>"
      ]
     },
     "metadata": {
      "needs_background": "light"
     },
     "output_type": "display_data"
    }
   ],
   "source": [
    "fig, ax = plt.subplots(1, 1,figsize=(8,6))\n",
    "\n",
    "ax.loglog(time_channels[:-3, 1], dobs, \"C0s\", label=\"dobs\")\n",
    "plt.errorbar(time_channels[:-3, 1], dobs, yerr=uncert, color=\"C0\")\n",
    "ax.loglog(time_channels[:-3, 1], -d_true, \"C1\", label=\"dpred_1D\")\n",
    "ax.loglog(time_channels[:-3, 1], -dpred_3d, \"C2\", label=\"dpred_3D\")\n",
    "ax.grid('k', alpha=0.5)\n",
    "ax.legend()"
   ]
  },
  {
   "cell_type": "code",
   "execution_count": 25,
   "metadata": {},
   "outputs": [
    {
     "name": "stdout",
     "output_type": "stream",
     "text": [
      "[-2.38084436e-09 -1.46303976e-09 -1.03624911e-09 -7.98974522e-10\n",
      " -5.98481343e-10 -3.88091227e-10 -2.49853013e-10 -1.61287138e-10\n",
      " -1.03780080e-10 -6.90270111e-11 -4.45358741e-11 -2.81547813e-11\n",
      " -1.70822922e-11 -1.04543243e-11 -6.56280681e-12 -3.98619676e-12\n",
      " -2.57170206e-12 -1.61586154e-12 -9.44280025e-13 -5.52698164e-13\n",
      " -3.06285600e-13]\n"
     ]
    }
   ],
   "source": [
    "print(dpred_3d)"
   ]
  },
  {
   "cell_type": "code",
   "execution_count": 26,
   "metadata": {},
   "outputs": [
    {
     "name": "stdout",
     "output_type": "stream",
     "text": [
      "[-2.65668267e-07 -2.03114028e-07 -1.60944378e-07 -1.24809732e-07\n",
      " -9.09664580e-08 -6.20887948e-08 -4.27191136e-08 -2.91046550e-08\n",
      " -1.96356928e-08 -1.31015305e-08 -8.63761174e-09 -5.62350861e-09\n",
      " -3.61284612e-09 -2.29077507e-09 -1.49990878e-09 -8.86544995e-10\n",
      " -5.40831521e-10 -3.25580295e-10 -1.93366852e-10 -1.13219150e-10\n",
      " -6.52911886e-11]\n"
     ]
    }
   ],
   "source": [
    "print(d_true)"
   ]
  },
  {
   "cell_type": "code",
   "execution_count": null,
   "metadata": {},
   "outputs": [],
   "source": []
  }
 ],
 "metadata": {
  "kernelspec": {
   "display_name": "Python 3",
   "language": "python",
   "name": "python3"
  },
  "language_info": {
   "codemirror_mode": {
    "name": "ipython",
    "version": 3
   },
   "file_extension": ".py",
   "mimetype": "text/x-python",
   "name": "python",
   "nbconvert_exporter": "python",
   "pygments_lexer": "ipython3",
   "version": "3.8.5"
  }
 },
 "nbformat": 4,
 "nbformat_minor": 4
}
